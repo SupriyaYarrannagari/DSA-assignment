{
 "cells": [
  {
   "cell_type": "code",
   "execution_count": 24,
   "id": "111a3554-6d73-47a5-a14a-e4c1741ff1ba",
   "metadata": {},
   "outputs": [
    {
     "name": "stdout",
     "output_type": "stream",
     "text": [
      "Original list:\n",
      "1->2->3->4->5\n",
      "Reversed list:\n",
      "5->4->3->2->1\n"
     ]
    }
   ],
   "source": [
    "#Problem 1: Reverse a singly linked list.\n",
    "class ListNode:\n",
    "    def __init__(self,val = 0,next = None):\n",
    "        self.val = val\n",
    "        self.next = next\n",
    "def reverse_list(head):\n",
    "    prev = None\n",
    "    current = head\n",
    "    while current:\n",
    "        next_node = current.next\n",
    "        current.next = prev\n",
    "        prev = current\n",
    "        current = next_node\n",
    "    return prev\n",
    "\n",
    "def create_linked_list(values):\n",
    "    if not values:\n",
    "        return None\n",
    "    head = ListNode(values[0])\n",
    "    current = head\n",
    "    for value in values[1:]:\n",
    "        current.next = ListNode(value)\n",
    "        current = current.next\n",
    "    return head\n",
    "def print_linked_list(head):\n",
    "    current = head\n",
    "    while current:\n",
    "        print(current.val, end =\"->\" if current.next else \"\\n\")\n",
    "        current = current.next\n",
    "head = create_linked_list([1,2,3,4,5])\n",
    "print(\"Original list:\")\n",
    "print_linked_list(head)\n",
    "\n",
    "reversed_head = reverse_list(head)\n",
    "print(\"Reversed list:\")\n",
    "print_linked_list(reversed_head)"
   ]
  },
  {
   "cell_type": "code",
   "execution_count": 25,
   "id": "c05f903c-a93b-477b-86bf-c83d66cd2fa3",
   "metadata": {},
   "outputs": [
    {
     "name": "stdout",
     "output_type": "stream",
     "text": [
      "List 1:\n",
      "1->3->5\n",
      "List 2:\n",
      "2->4->6\n"
     ]
    }
   ],
   "source": [
    "#Problem 2: Merge two sorted linked lists into one sorted linked list\n",
    "class ListNode:\n",
    "    def __init__(self, val = 0, next = None):\n",
    "        self.val = val\n",
    "        self.next = next\n",
    "def merge_two_sorted_lists(l1,l2):\n",
    "    dummy = ListNode()\n",
    "    current = dummy\n",
    "    \n",
    "    while l1 and l2:\n",
    "        if l1.val < l2.val:\n",
    "            current.next = l1\n",
    "            l1= l1.next\n",
    "        else:\n",
    "            current.next = l2\n",
    "            l2 = l2.next\n",
    "        current = current.next\n",
    "        \n",
    "    if l1:\n",
    "        current.next = l1\n",
    "    else:\n",
    "        current.next = l2\n",
    "    return dummy.next\n",
    "def create_linked_list(values):\n",
    "    if not values:\n",
    "        return None\n",
    "    head = ListNode(values[0])\n",
    "    current = head\n",
    "    for value in values[1:]:\n",
    "        current.next = ListNode(value)\n",
    "        current = current.next\n",
    "    return head\n",
    "def print_linked_list(head):\n",
    "    current = head\n",
    "    while current:\n",
    "        print(current.val, end = \"->\" if current.next else \"\\n\")\n",
    "        current = current.next\n",
    "        \n",
    "l1 = create_linked_list([1,3,5])\n",
    "l2 = create_linked_list([2,4,6])\n",
    "print(\"List 1:\")\n",
    "print_linked_list(l1)\n",
    "print(\"List 2:\")\n",
    "print_linked_list(l2)\n"
   ]
  },
  {
   "cell_type": "code",
   "execution_count": 26,
   "id": "3c198c1e-8ed6-4e97-90bc-1f8f904a0f36",
   "metadata": {},
   "outputs": [
    {
     "name": "stdout",
     "output_type": "stream",
     "text": [
      "Original list:\n",
      "1 -> 2 -> 3 -> 4 -> 5\n",
      "List after removing 2th node from the end:\n",
      "1 -> 2 -> 3 -> 5\n"
     ]
    }
   ],
   "source": [
    "#Problem 3: Remove the nth node from the end of a linked list.\n",
    "class ListNode:\n",
    "    def __init__(self, val=0, next=None):\n",
    "        self.val = val\n",
    "        self.next = next\n",
    "def remove_nth_from_end(head, n):\n",
    "    dummy = ListNode(0, head)\n",
    "    first = dummy\n",
    "    second = dummy\n",
    "    for _ in range(n + 1):\n",
    "        first = first.next\n",
    "    while first:\n",
    "        first = first.next\n",
    "        second = second.next\n",
    "    second.next = second.next.next\n",
    "    return dummy.next\n",
    "def create_linked_list(values):\n",
    "    if not values:\n",
    "        return None\n",
    "    head = ListNode(values[0])\n",
    "    current = head\n",
    "    for value in values[1:]:\n",
    "        current.next = ListNode(value)\n",
    "        current = current.next\n",
    "    return head\n",
    "\n",
    "def print_linked_list(head):\n",
    "    current = head\n",
    "    while current:\n",
    "        print(current.val, end=\" -> \" if current.next else \"\\n\")\n",
    "        current = current.next\n",
    "head = create_linked_list([1, 2, 3, 4, 5])\n",
    "print(\"Original list:\")\n",
    "print_linked_list(head)\n",
    "n = 2\n",
    "new_head = remove_nth_from_end(head, n)\n",
    "print(f\"List after removing {n}th node from the end:\")\n",
    "print_linked_list(new_head)\n"
   ]
  },
  {
   "cell_type": "code",
   "execution_count": 27,
   "id": "24fee9a8-a9cb-45ae-a3e3-f774b58a897f",
   "metadata": {},
   "outputs": [
    {
     "name": "stdout",
     "output_type": "stream",
     "text": [
      "List A:\n",
      "1 -> 2 -> 3 -> 4\n",
      "List B:\n",
      "9 -> 8 -> 3 -> 4 -> 4\n",
      "Intersection at node with value: 4\n"
     ]
    }
   ],
   "source": [
    "#Problem 4: Find the intersection point of two linked lists.\n",
    "class ListNode:\n",
    "    def __init__(self, val=0, next=None):\n",
    "        self.val = val\n",
    "        self.next = next\n",
    "def get_intersection_node(headA, headB):\n",
    "    if not headA or not headB:\n",
    "        return None\n",
    "    p1, p2 = headA, headB\n",
    "    while p1 != p2:\n",
    "        p1 = p1.next if p1 else headB\n",
    "        p2 = p2.next if p2 else headA\n",
    "    return p1 \n",
    "def create_linked_list(values):\n",
    "    if not values:\n",
    "        return None\n",
    "    head = ListNode(values[0])\n",
    "    current = head\n",
    "    for value in values[1:]:\n",
    "        current.next = ListNode(value)\n",
    "        current = current.next\n",
    "    return head\n",
    "\n",
    "def print_linked_list(head):\n",
    "    current = head\n",
    "    while current:\n",
    "        print(current.val, end=\" -> \" if current.next else \"\\n\")\n",
    "        current = current.next\n",
    "def attach_lists(headA, headB, pos):\n",
    "    if not headA or not headB:\n",
    "        return\n",
    "    currentA = headA\n",
    "    while pos > 0 and currentA:\n",
    "        currentA = currentA.next\n",
    "        pos -= 1\n",
    "    if not currentA:\n",
    "        return\n",
    "    currentB = headB\n",
    "    while currentB.next:\n",
    "        currentB = currentB.next\n",
    "    currentB.next = currentA\n",
    "headA = create_linked_list([1, 2, 3, 4])\n",
    "headB = create_linked_list([9, 8, 3, 4])\n",
    "attach_lists(headA, headB, 3)\n",
    "print(\"List A:\")\n",
    "print_linked_list(headA)\n",
    "print(\"List B:\")\n",
    "print_linked_list(headB)\n",
    "intersection = get_intersection_node(headA, headB)\n",
    "if intersection:\n",
    "    print(f\"Intersection at node with value: {intersection.val}\")\n",
    "else:\n",
    "    print(\"No intersection\")"
   ]
  },
  {
   "cell_type": "code",
   "execution_count": 28,
   "id": "8ff2c61e-6837-4198-b1c0-c233f3dfaa6e",
   "metadata": {},
   "outputs": [
    {
     "name": "stdout",
     "output_type": "stream",
     "text": [
      "Original List :\n",
      "1->1->2->3->3->4->4->5\n",
      "list after removing duplicates:\n",
      "1->2->3->4->5\n"
     ]
    }
   ],
   "source": [
    "#Problem 5: Remove duplicates from a sorted linked list.\n",
    "class ListNode:\n",
    "    def __init__(self, val=0, next=None):\n",
    "        self.val = val\n",
    "        self.next = next\n",
    "def remove_duplicates_from_sorted_list(head):\n",
    "    current = head\n",
    "    while current and current.next:\n",
    "        if current.val == current.next.val:\n",
    "            current.next = current.next.next\n",
    "        else:\n",
    "            current = current.next\n",
    "    return head\n",
    "def create_linked_list(values):\n",
    "    if not values:\n",
    "        return None\n",
    "    head = ListNode(values[0])\n",
    "    current = head\n",
    "    for value in values[1:]:\n",
    "        current.next = ListNode(value)\n",
    "        current = current.next\n",
    "    return head\n",
    "def print_linked_list(head):\n",
    "    current = head\n",
    "    while current:\n",
    "        print(current.val, end =\"->\" if current.next else \"\\n\")\n",
    "        current = current.next\n",
    "head = create_linked_list([1,1,2,3,3,4,4,5])\n",
    "print(\"Original List :\")\n",
    "print_linked_list(head)\n",
    "new_head = remove_duplicates_from_sorted_list(head)\n",
    "print(\"list after removing duplicates:\")\n",
    "print_linked_list(new_head)"
   ]
  },
  {
   "cell_type": "code",
   "execution_count": 29,
   "id": "d37bbd1a-9762-42f4-b463-dc026a2fe6c9",
   "metadata": {},
   "outputs": [
    {
     "name": "stdout",
     "output_type": "stream",
     "text": [
      "List 1:\n",
      "2->4->3\n",
      "List 2:\n",
      "5->6->4\n",
      "Sum List:\n",
      "7->0->8\n"
     ]
    }
   ],
   "source": [
    "# problem 6: Add two numbers represented by linked lists (where each node contains a single digit).\n",
    "class ListNode:\n",
    "    def __init__(self, val=0, next=None):\n",
    "        self.val = val\n",
    "        self.next = next\n",
    "def add_two_numbers(l1,l2):\n",
    "    dummy = ListNode()\n",
    "    current= dummy\n",
    "    carry = 0\n",
    "    p1, p2 = l1, l2\n",
    "    \n",
    "    while p1 or p2 or carry:\n",
    "        val1 = p1.val if p1 else 0\n",
    "        val2 = p2.val if p2 else 0\n",
    "        total = val1 +val2 +carry\n",
    "        carry = total // 10\n",
    "        current.next = ListNode(total % 10)\n",
    "        \n",
    "        current = current.next\n",
    "        if p1 :\n",
    "            p1 = p1.next\n",
    "        if p2:\n",
    "            p2 = p2.next\n",
    "    return dummy.next\n",
    "def create_linked_list(values):\n",
    "    if not values:\n",
    "        return None\n",
    "    head = ListNode(values[0])\n",
    "    current = head\n",
    "    for value in values[1:]:\n",
    "        current.next = ListNode(value)\n",
    "        current = current.next\n",
    "    return head\n",
    "def print_linked_list(head):\n",
    "    current = head\n",
    "    while current:\n",
    "        print(current.val, end =\"->\" if current.next else \"\\n\")\n",
    "        current = current.next\n",
    "l1 = create_linked_list([2, 4,3])\n",
    "l2 = create_linked_list([5,6,4])\n",
    "print(\"List 1:\")\n",
    "print_linked_list(l1)\n",
    "print(\"List 2:\")\n",
    "print_linked_list(l2)\n",
    "\n",
    "result = add_two_numbers(l1, l2)\n",
    "print(\"Sum List:\")\n",
    "print_linked_list(result)"
   ]
  },
  {
   "cell_type": "code",
   "execution_count": 30,
   "id": "870d725a-aea8-4f02-a80a-34b75148bb42",
   "metadata": {},
   "outputs": [
    {
     "name": "stdout",
     "output_type": "stream",
     "text": [
      "Original List:\n",
      "1->2->3->4\n",
      "List after swapping nodes in pairs:\n",
      "2->1->4->3\n"
     ]
    }
   ],
   "source": [
    "#Problem 7: Swap nodes in pairs in a linked list.\n",
    "class ListNode:\n",
    "    def __init__(self, val=0, next=None):\n",
    "        self.val = val\n",
    "        self.next = next\n",
    "def swap_pairs(head):\n",
    "    dummy = ListNode(0, head)\n",
    "    prev = dummy\n",
    "    \n",
    "    while prev.next and prev.next.next:\n",
    "        first = prev.next\n",
    "        second = prev.next.next\n",
    "        \n",
    "        first.next = second.next\n",
    "        second.next = first\n",
    "        prev.next = second\n",
    "        prev = first \n",
    "    return dummy.next\n",
    "def create_linked_list(values):\n",
    "    if not values:\n",
    "        return None\n",
    "    head = ListNode(values[0])\n",
    "    current = head\n",
    "    for value in values[1:]:\n",
    "        current.next = ListNode(value)\n",
    "        current = current.next\n",
    "    return head\n",
    "def print_linked_list(head):\n",
    "    current = head\n",
    "    while current:\n",
    "        print(current.val, end =\"->\" if current.next else \"\\n\")\n",
    "        current = current.next\n",
    "head = create_linked_list([1,2,3,4])\n",
    "print(\"Original List:\")\n",
    "print_linked_list(head)\n",
    "swapped_head = swap_pairs(head)\n",
    "print(\"List after swapping nodes in pairs:\")\n",
    "print_linked_list(swapped_head)"
   ]
  },
  {
   "cell_type": "code",
   "execution_count": 31,
   "id": "3b30a2b4-b415-41f1-b2bc-b1d93b5fb25a",
   "metadata": {},
   "outputs": [
    {
     "name": "stdout",
     "output_type": "stream",
     "text": [
      "Original list:\n",
      "1 -> 2 -> 3 -> 4 -> 5\n",
      "List after reversing every 3 nodes:\n",
      "3 -> 2 -> 1 -> 4 -> 5\n"
     ]
    }
   ],
   "source": [
    "#Problem 8: Reverse nodes in a linked list in groups of k.\n",
    "class ListNode:\n",
    "    def __init__(self, val=0, next=None):\n",
    "        self.val = val\n",
    "        self.next = next\n",
    "\n",
    "def reverse_k_group(head, k):\n",
    "    if not head or k == 1:\n",
    "        return head\n",
    "    dummy = ListNode(0, head)\n",
    "    prev_group_end = dummy\n",
    "    while True:\n",
    "        kth_node = prev_group_end\n",
    "        for _ in range(k):\n",
    "            kth_node = kth_node.next\n",
    "            if not kth_node:\n",
    "                return dummy.next\n",
    "        group_start = prev_group_end.next\n",
    "        next_group_start = kth_node.next\n",
    "        prev, curr = None, group_start\n",
    "        while curr != next_group_start:\n",
    "            temp = curr.next\n",
    "            curr.next = prev\n",
    "            prev = curr\n",
    "            curr = temp\n",
    "        prev_group_end.next = kth_node\n",
    "        group_start.next = next_group_start\n",
    "        prev_group_end = group_start\n",
    "    return dummy.next\n",
    "def create_linked_list(values):\n",
    "    if not values:\n",
    "        return None\n",
    "    head = ListNode(values[0])\n",
    "    current = head\n",
    "    for value in values[1:]:\n",
    "        current.next = ListNode(value)\n",
    "        current = current.next\n",
    "    return head\n",
    "def print_linked_list(head):\n",
    "    current = head\n",
    "    while current:\n",
    "        print(current.val, end=\" -> \" if current.next else \"\\n\")\n",
    "        current = current.next\n",
    "head = create_linked_list([1, 2, 3, 4, 5])\n",
    "k = 3\n",
    "print(\"Original list:\")\n",
    "print_linked_list(head)\n",
    "reversed_head = reverse_k_group(head, k)\n",
    "print(f\"List after reversing every {k} nodes:\")\n",
    "print_linked_list(reversed_head)\n"
   ]
  },
  {
   "cell_type": "code",
   "execution_count": 32,
   "id": "14164b86-76e1-4565-a52e-d9f81f45be61",
   "metadata": {},
   "outputs": [
    {
     "name": "stdout",
     "output_type": "stream",
     "text": [
      "True\n"
     ]
    }
   ],
   "source": [
    "#Problem 9: Determine if a linked list is a palindrome.\n",
    "def is_palindrome(arr):\n",
    "    left = 0\n",
    "    right = len(arr) - 1\n",
    "    while(left < right):\n",
    "        if (arr[left] != arr[right]):\n",
    "            return False\n",
    "        left += 1\n",
    "        right -= 1\n",
    "    return True\n",
    "arr=[1,2,2,1]\n",
    "print(is_palindrome(arr))"
   ]
  },
  {
   "cell_type": "code",
   "execution_count": 33,
   "id": "cd345d9c-f7ba-4791-875e-bca22b15a198",
   "metadata": {},
   "outputs": [
    {
     "name": "stdout",
     "output_type": "stream",
     "text": [
      "Original list:\n",
      "1 -> 2 -> 3 -> 4 -> 5\n",
      "List after rotating 2 places to the right:\n",
      "4 -> 5 -> 1 -> 2 -> 3\n"
     ]
    }
   ],
   "source": [
    "#Problem 10: Rotate a linked list to the right by k places.\n",
    "class ListNode:\n",
    "    def __init__(self, val=0, next=None):\n",
    "        self.val = val\n",
    "        self.next = next\n",
    "\n",
    "def rotate_right(head, k):\n",
    "    if not head or not head.next or k == 0:\n",
    "        return head\n",
    "    current = head\n",
    "    length = 1\n",
    "    while current.next:\n",
    "        current = current.next\n",
    "        length += 1\n",
    "    k = k % length\n",
    "    if k == 0:\n",
    "        return head\n",
    "    new_tail_pos = length - k - 1\n",
    "    new_tail = head\n",
    "    for _ in range(new_tail_pos):\n",
    "        new_tail = new_tail.next\n",
    "    new_head = new_tail.next\n",
    "    current.next = head  \n",
    "    new_tail.next = None \n",
    "\n",
    "    return new_head\n",
    "def create_linked_list(values):\n",
    "    if not values:\n",
    "        return None\n",
    "    head = ListNode(values[0])\n",
    "    current = head\n",
    "    for value in values[1:]:\n",
    "        current.next = ListNode(value)\n",
    "        current = current.next\n",
    "    return head\n",
    "def print_linked_list(head):\n",
    "    current = head\n",
    "    while current:\n",
    "        print(current.val, end=\" -> \" if current.next else \"\\n\")\n",
    "        current = current.next\n",
    "head = create_linked_list([1, 2, 3, 4, 5])\n",
    "k = 2\n",
    "print(\"Original list:\")\n",
    "print_linked_list(head)\n",
    "rotated_head = rotate_right(head, k)\n",
    "print(f\"List after rotating {k} places to the right:\")\n",
    "print_linked_list(rotated_head)"
   ]
  },
  {
   "cell_type": "code",
   "execution_count": 34,
   "id": "190a48dc-93dc-4fbc-8854-6b024b06b9ec",
   "metadata": {},
   "outputs": [
    {
     "name": "stdout",
     "output_type": "stream",
     "text": [
      "Flattened list:\n",
      "1 <-> 2 <-> 4 <-> 5 <-> 6 <-> 13 <-> 3 <-> 7 <-> 8 <-> 9 <-> 10 <-> 11 <-> 12\n"
     ]
    }
   ],
   "source": [
    "#Problem 11: Flatten a multilevel doubly linked list.\n",
    "class Node:\n",
    "    def __init__(self, val=0, prev=None, next=None, child=None):\n",
    "        self.val = val\n",
    "        self.prev = prev\n",
    "        self.next = next\n",
    "        self.child = child\n",
    "def flatten(head):\n",
    "    if not head:\n",
    "        return head\n",
    "    dummy = Node(0)  \n",
    "    dummy.next = head\n",
    "    prev = dummy\n",
    "    stack = [head]  \n",
    "    while stack:\n",
    "        curr = stack.pop()\n",
    "        prev.next = curr\n",
    "        curr.prev = prev\n",
    "        if curr.next:\n",
    "            stack.append(curr.next)\n",
    "        if curr.child:\n",
    "            stack.append(curr.child)\n",
    "            curr.child = None \n",
    "        prev = curr \n",
    "    dummy.next.prev = None\n",
    "    return dummy.next\n",
    "def print_flattened_list(head):\n",
    "    current = head\n",
    "    while current:\n",
    "        print(current.val, end=\" <-> \" if current.next else \"\\n\")\n",
    "        current = current.next\n",
    "head = Node(1)\n",
    "n2 = Node(2)\n",
    "n3 = Node(3)\n",
    "n4 = Node(4)\n",
    "n5 = Node(5)\n",
    "n6 = Node(6)\n",
    "n7 = Node(7)\n",
    "n8 = Node(8)\n",
    "n9 = Node(9)\n",
    "n10 = Node(10)\n",
    "n11 = Node(11)\n",
    "n12 = Node(12)\n",
    "n13 = Node(13)\n",
    "\n",
    "\n",
    "head.next = n2\n",
    "n2.prev = head\n",
    "n2.next = n3\n",
    "n3.prev = n2\n",
    "n3.next = n7\n",
    "n7.prev = n3\n",
    "n7.next = n8\n",
    "n8.prev = n7\n",
    "n8.next = n11\n",
    "n11.prev = n8\n",
    "n11.next = n12\n",
    "n12.prev = n11\n",
    "n2.child = n4\n",
    "n4.next = n5\n",
    "n5.prev = n4\n",
    "n5.child = n6\n",
    "n6.next = n13\n",
    "n13.prev = n6\n",
    "\n",
    "n8.child = n9\n",
    "n9.next = n10\n",
    "n10.prev = n9\n",
    "flattened_head = flatten(head)\n",
    "print(\"Flattened list:\")\n",
    "print_flattened_list(flattened_head)\n"
   ]
  },
  {
   "cell_type": "code",
   "execution_count": 35,
   "id": "bc373cc3-39a8-4cf0-b1c0-23833912e32c",
   "metadata": {},
   "outputs": [
    {
     "name": "stdout",
     "output_type": "stream",
     "text": [
      "Original list:\n",
      "1 -> 2 -> 3 -> 4 -> 5\n",
      "List after rearranging even positioned nodes to the end:\n",
      "1 -> 3 -> 5 -> 2 -> 4\n"
     ]
    }
   ],
   "source": [
    "#Problem 12: Rearrange a linked list such that all even positioned nodes are placed at the end.\n",
    "class ListNode:\n",
    "    def __init__(self, val=0, next=None):\n",
    "        self.val = val\n",
    "        self.next = next\n",
    "\n",
    "def rearrange_even_at_end(head):\n",
    "    if not head or not head.next:\n",
    "        return head\n",
    "    odd = head\n",
    "    even = head.next\n",
    "    even_head = even\n",
    "    while even and even.next:\n",
    "        odd.next = even.next\n",
    "        odd = odd.next\n",
    "        even.next = odd.next\n",
    "        even = even.next\n",
    "    odd.next = even_head\n",
    "    return head\n",
    "def create_linked_list(values):\n",
    "    if not values:\n",
    "        return None\n",
    "    head = ListNode(values[0])\n",
    "    current = head\n",
    "    for value in values[1:]:\n",
    "        current.next = ListNode(value)\n",
    "        current = current.next\n",
    "    return head\n",
    "def print_linked_list(head):\n",
    "    current = head\n",
    "    while current:\n",
    "        print(current.val, end=\" -> \" if current.next else \"\\n\")\n",
    "        current = current.next\n",
    "head = create_linked_list([1, 2, 3, 4, 5,])\n",
    "print(\"Original list:\")\n",
    "print_linked_list(head)\n",
    "\n",
    "rearranged_head = rearrange_even_at_end(head)\n",
    "print(\"List after rearranging even positioned nodes to the end:\")\n",
    "print_linked_list(rearranged_head)\n"
   ]
  },
  {
   "cell_type": "code",
   "execution_count": 36,
   "id": "f4b1bd8f-a4af-4619-bb3e-921f5f702642",
   "metadata": {},
   "outputs": [
    {
     "name": "stdout",
     "output_type": "stream",
     "text": [
      "Input linked list:\n",
      "1 -> 2 -> 3\n",
      "Output linked list after adding one:\n",
      "1 -> 2 -> 4\n"
     ]
    }
   ],
   "source": [
    "#Problem 13: Given a non-negative number represented as a linked list, add one to it.\n",
    "class ListNode:\n",
    "    def __init__(self, val=0, next=None):\n",
    "        self.val = val\n",
    "        self.next = next\n",
    "\n",
    "def add_one_to_linked_list(head):\n",
    "    reversed_head = reverse_linked_list(head)\n",
    "    current = reversed_head\n",
    "    carry = 1\n",
    "    while current:\n",
    "        current.val += carry\n",
    "        if current.val < 10:\n",
    "            carry = 0\n",
    "            break\n",
    "        else:\n",
    "            current.val -= 10\n",
    "            carry = 1\n",
    "            if not current.next:\n",
    "                current.next = ListNode(0)\n",
    "        current = current.next\n",
    "    result_head = reverse_linked_list(reversed_head)\n",
    "    if result_head.val == 0 and result_head.next:\n",
    "        return result_head.next\n",
    "    else:\n",
    "        return result_head\n",
    "def reverse_linked_list(head):\n",
    "    prev = None\n",
    "    current = head\n",
    "    while current:\n",
    "        next_node = current.next\n",
    "        current.next = prev\n",
    "        prev = current\n",
    "        current = next_node\n",
    "    return prev\n",
    "def create_linked_list(values):\n",
    "    if not values:\n",
    "        return None\n",
    "    head = ListNode(values[0])\n",
    "    current = head\n",
    "    for value in values[1:]:\n",
    "        current.next = ListNode(value)\n",
    "        current = current.next\n",
    "    return head\n",
    "def print_linked_list(head):\n",
    "    current = head\n",
    "    while current:\n",
    "        print(current.val, end=\" -> \" if current.next else \"\\n\")\n",
    "        current = current.next\n",
    "input_list = create_linked_list([1, 2, 3])\n",
    "print(\"Input linked list:\")\n",
    "print_linked_list(input_list)\n",
    "\n",
    "output_list = add_one_to_linked_list(input_list)\n",
    "print(\"Output linked list after adding one:\")\n",
    "print_linked_list(output_list)\n"
   ]
  },
  {
   "cell_type": "code",
   "execution_count": 37,
   "id": "1685f31b-ca43-441b-9be8-df4e81ffbfa6",
   "metadata": {},
   "outputs": [
    {
     "name": "stdout",
     "output_type": "stream",
     "text": [
      "Target 5 is at index:\n"
     ]
    },
    {
     "data": {
      "text/plain": [
       "2"
      ]
     },
     "execution_count": 37,
     "metadata": {},
     "output_type": "execute_result"
    }
   ],
   "source": [
    "#Problem 14: Given a sorted array and a target value, return the index if the target is found. If not, return the index where it would be inserted.\n",
    "def search_insert_position(nums,target):\n",
    "    left, right = 0, len(nums) - 1\n",
    "    while left <= right:\n",
    "        mid = (left + right) // 2\n",
    "        if nums[mid] == target:\n",
    "            return mid\n",
    "        elif nums[mid] < target:\n",
    "            left = mid +1\n",
    "        else:\n",
    "            right = mid - 1\n",
    "    return left\n",
    "nums = [1,3,5,6]\n",
    "target = 5\n",
    "print(f\"Target {target} is at index:\")\n",
    "search_insert_position(nums,target)"
   ]
  },
  {
   "cell_type": "code",
   "execution_count": 38,
   "id": "93309bb5-47a3-4b01-8c0e-af35354a0634",
   "metadata": {},
   "outputs": [
    {
     "name": "stdout",
     "output_type": "stream",
     "text": [
      "minimum element in rotated sorted array: 0\n"
     ]
    }
   ],
   "source": [
    "#Problem 15: Find the minimum element in a rotated sorted array\n",
    "def find_min_in_rotated_sorted_array(nums):\n",
    "    left, right = 0, len(nums) - 1\n",
    "    while left < right:\n",
    "        mid = (left + right) // 2\n",
    "        if nums[mid] > nums[right]:\n",
    "            left = mid + 1\n",
    "        else:\n",
    "            right = mid\n",
    "    return nums[left]\n",
    "nums = [4,5,6,7,0,1,2]\n",
    "print(\"minimum element in rotated sorted array:\",find_min_in_rotated_sorted_array(nums))"
   ]
  },
  {
   "cell_type": "code",
   "execution_count": 39,
   "id": "39ceb672-66ae-4a09-9f9f-52c808e76776",
   "metadata": {},
   "outputs": [
    {
     "name": "stdout",
     "output_type": "stream",
     "text": [
      "index of target in rotated sorted array: 4\n"
     ]
    }
   ],
   "source": [
    "#Problem 16: Search for a target value in a rotated sorted array\n",
    "def search_in_rotated_sorted_array(nums,target):\n",
    "    left, right = 0,len(nums)-1\n",
    "    while left <= right:\n",
    "        mid = (left + right) // 2\n",
    "        if nums[mid] == target:\n",
    "            return mid\n",
    "        if nums[mid] < nums[right]:\n",
    "            if nums[mid] < target <= nums[right]:\n",
    "                left = mid + 1\n",
    "            else:\n",
    "                right = mid - 1\n",
    "        else:\n",
    "            if nums[left] <= target < nums[mid]:\n",
    "                right= mid - 1\n",
    "            else:\n",
    "                left = mid + 1\n",
    "    return -1\n",
    "nums = [4,5,6,7,0,1,2]\n",
    "target = 0\n",
    "print(\"index of target in rotated sorted array:\", search_in_rotated_sorted_array(nums,target))"
   ]
  },
  {
   "cell_type": "code",
   "execution_count": 40,
   "id": "79a50a44-1026-4883-a201-e887e24263e8",
   "metadata": {},
   "outputs": [
    {
     "name": "stdout",
     "output_type": "stream",
     "text": [
      "peak element index: 2\n"
     ]
    }
   ],
   "source": [
    "#Problem 17: Find the peak element in an array. A peak element is greater than its neighbors\n",
    "def find_peak_element(nums):\n",
    "    left,right = 0, len(nums) - 1\n",
    "    while left < right:\n",
    "        mid = (left + right) //2\n",
    "        if nums[mid] > nums[mid + 1]:\n",
    "            right = mid\n",
    "        else:\n",
    "            left = mid + 1\n",
    "    return left\n",
    "nums = [1,2,3,1]\n",
    "print(\"peak element index:\",find_peak_element(nums))"
   ]
  },
  {
   "cell_type": "code",
   "execution_count": 41,
   "id": "82072bba-0358-467d-a96e-9503b6a08971",
   "metadata": {},
   "outputs": [
    {
     "name": "stdout",
     "output_type": "stream",
     "text": [
      "number of negative numbers in the grid: 16\n"
     ]
    }
   ],
   "source": [
    "#Problem 18: Given a m x n matrix where each row and column is sorted in ascending order, count the number of negative numbers.\n",
    "def count_negative_numbers(grid):\n",
    "    m = len(grid)\n",
    "    n = len(grid[0]) if m > 0 else 0\n",
    "    \n",
    "    if m == 0 or n == 0:\n",
    "        return 0\n",
    "    \n",
    "    row,col = 0, n - 1\n",
    "    count = 0\n",
    "    while row < m and col >= 0:\n",
    "        if grid[row][col] < 0:\n",
    "            count += (col + 1)\n",
    "            row += 1\n",
    "        else:\n",
    "            col -= 1\n",
    "    return count\n",
    "grid=[\n",
    "    [4,3,2,-1],\n",
    "    [3,2,1,-1],\n",
    "    [1,1,-1,-2],\n",
    "    [-1,-1,-2,-3]\n",
    "]\n",
    "print(\"number of negative numbers in the grid:\", count_negative_numbers(grid))"
   ]
  },
  {
   "cell_type": "code",
   "execution_count": 42,
   "id": "4bae26f5-93d8-454f-ab92-f1477ab0dc93",
   "metadata": {},
   "outputs": [
    {
     "name": "stdout",
     "output_type": "stream",
     "text": [
      "target 3  is present in matrix: True\n"
     ]
    }
   ],
   "source": [
    "#Problem 19: Given a 2D matrix sorted in ascending order in each row, and the first integer of each row is greater than the last integer of the previous row, determine if a target value is present in the matrix.\n",
    "def search_in_sorted_matrix(matrix,target):\n",
    "    if not matrix or not matrix[0]:\n",
    "        return False\n",
    "    m,n = len(matrix), len(matrix[0])\n",
    "    row,col = 0, n-1\n",
    "    \n",
    "    while row < m and col >= 0:\n",
    "        if matrix[row][col] == target:\n",
    "            return True\n",
    "        elif matrix[row][col] < target:\n",
    "            row += 1\n",
    "        else:\n",
    "            col -= 1\n",
    "    return False\n",
    "matrix = [\n",
    "    [1,3,5,7],\n",
    "    [10,11,16,20],\n",
    "    [23,30,34,60]\n",
    "]\n",
    "target1 = 3\n",
    "print(\"target\",target1,\" is present in matrix:\",search_in_sorted_matrix(matrix,target1))"
   ]
  },
  {
   "cell_type": "code",
   "execution_count": 43,
   "id": "5089229d-fd49-4d94-85fb-7f35a0e73508",
   "metadata": {},
   "outputs": [
    {
     "name": "stdout",
     "output_type": "stream",
     "text": [
      "Median of merged sorted array: 2.0\n"
     ]
    }
   ],
   "source": [
    "#Problem 20: Find Median in Two Sorted Arrays\n",
    "#Problem: Given two sorted arrays, find the median of the combined sorted array.\n",
    "def findMedianSortedArrays(nums1, nums2):\n",
    "    if len(nums1) > len(nums2):\n",
    "        nums1, nums2 = nums2, nums1\n",
    "    m, n = len(nums1), len(nums2)\n",
    "    left, right = 0, m\n",
    "    total_half_len = (m + n + 1) // 2\n",
    "    while left <= right:\n",
    "        partition1 = (left + right) // 2\n",
    "        partition2 = total_half_len - partition1\n",
    "        max_left1 = float('-inf') if partition1 == 0 else nums1[partition1 - 1]\n",
    "        min_right1 = float('inf') if partition1 == m else nums1[partition1]\n",
    "        max_left2 = float('-inf') if partition2 == 0 else nums2[partition2 - 1]\n",
    "        min_right2 = float('inf') if partition2 == n else nums2[partition2]\n",
    "        if max_left1 <= min_right2 and max_left2 <= min_right1:\n",
    "            if (m + n) % 2 == 0:\n",
    "                return (max(max_left1, max_left2) + min(min_right1, min_right2)) / 2.0\n",
    "            else:\n",
    "                return float(max(max_left1, max_left2))\n",
    "        elif max_left1 > min_right2:\n",
    "            right = partition1 - 1\n",
    "        else:\n",
    "            left = partition1 + 1\n",
    "    raise ValueError(\"Arrays are not sorted as expected.\")\n",
    "nums1 = [1, 3]\n",
    "nums2 = [2]\n",
    "print(\"Median of merged sorted array:\", findMedianSortedArrays(nums1, nums2))"
   ]
  },
  {
   "cell_type": "code",
   "execution_count": 44,
   "id": "36014980-a037-431a-8477-5db566c68dad",
   "metadata": {},
   "outputs": [
    {
     "name": "stdout",
     "output_type": "stream",
     "text": [
      "Smallest letter greater than  a : c\n"
     ]
    }
   ],
   "source": [
    "#Problem 21: Given a sorted character array and a target letter, find the smallest letter in the array that is greater than the target.\n",
    "def next_greater_letter(letters,target):\n",
    "    n = len(letters)\n",
    "    left, right = 0, n\n",
    "    while left < right:\n",
    "        mid = (left + right)// 2\n",
    "        if letters[mid] <= target:\n",
    "            left = mid + 1\n",
    "        else:\n",
    "            right = mid\n",
    "    return letters[left % n]\n",
    "letters = ['c','f','j']\n",
    "target = 'a'\n",
    "print(\"Smallest letter greater than \", target,\":\", next_greater_letter(letters,target))"
   ]
  },
  {
   "cell_type": "code",
   "execution_count": 45,
   "id": "a345ae27-82d4-439c-a80c-e3d4072fbef8",
   "metadata": {},
   "outputs": [
    {
     "name": "stdout",
     "output_type": "stream",
     "text": [
      "Before sorting: [2, 0, 2, 1, 1, 0]\n",
      "After sorting: [0, 0, 1, 1, 2, 2]\n"
     ]
    }
   ],
   "source": [
    "#Problem 22: Given an array with n objects colored red, white, or blue, sort them in-place so that objects of the same color are adjacent, with the colors in the order red, white, and blue.\n",
    "def sortColors(nums):\n",
    "    low, mid, high = 0, 0, len(nums) - 1\n",
    "    \n",
    "    while mid <= high:\n",
    "        if nums[mid] == 0:  \n",
    "            nums[low], nums[mid] = nums[mid], nums[low]\n",
    "            low += 1\n",
    "            mid += 1\n",
    "        elif nums[mid] == 1:  \n",
    "            mid += 1\n",
    "        else:  \n",
    "            nums[mid], nums[high] = nums[high], nums[mid]\n",
    "            high -= 1\n",
    "nums = [2, 0, 2, 1, 1, 0]\n",
    "print(\"Before sorting:\", nums)\n",
    "sortColors(nums)\n",
    "print(\"After sorting:\", nums)\n"
   ]
  },
  {
   "cell_type": "code",
   "execution_count": 46,
   "id": "37784cbd-8cde-4f11-82fc-f68e01e880cf",
   "metadata": {},
   "outputs": [
    {
     "name": "stdout",
     "output_type": "stream",
     "text": [
      "5\n"
     ]
    }
   ],
   "source": [
    "#Problem 23: Find the kth largest element in an unsorted array.\n",
    "def largest(nums,low,high):\n",
    "    pivot = nums[high]\n",
    "    i = low\n",
    "    for j in range(low,high):\n",
    "        if nums[j] >= pivot:\n",
    "            nums[i],nums[j] = nums[j], nums[i]\n",
    "            i += 1\n",
    "    nums[i],nums[high] = nums[high], nums[i]\n",
    "    return i\n",
    "def quickselect(nums,low,high,k):\n",
    "    if low == high:\n",
    "        return nums[low]\n",
    "    pivot_index = largest(nums,low,high)\n",
    "    if pivot_index == k:\n",
    "        return nums[pivot_index]\n",
    "    elif pivot_index < k:\n",
    "        return quickselect(nums,pivot_index + 1,high,k)\n",
    "    else:\n",
    "        return quickselect(nums,low,pivot_index - 1,k)\n",
    "def find_kth_largest(nums,k):\n",
    "    size = len(nums)\n",
    "    return quickselect(nums, 0,size - 1, k- 1)\n",
    "nums = [3,2,1,5,6,4]\n",
    "k = 2\n",
    "print(find_kth_largest(nums,k))"
   ]
  },
  {
   "cell_type": "code",
   "execution_count": 47,
   "id": "09e33466-9a2f-48d4-904a-8509d3e102e4",
   "metadata": {},
   "outputs": [
    {
     "name": "stdout",
     "output_type": "stream",
     "text": [
      "[3, 5, 1, 6, 2, 4]\n"
     ]
    }
   ],
   "source": [
    "#Problem 24: Given an unsorted array, reorder it in-place such that nums[0] <= nums[1] >= nums[2] <= nums[3].\n",
    "def sorted(nums):\n",
    "    for i in range(len(nums) - 1):\n",
    "        if ( i % 2 == 0 and nums[i] > nums[i + 1]) or ( i % 2 == 1 and nums[i] < nums[i + 1]):\n",
    "            nums[i],nums[i + 1] = nums[i + 1], nums[i]\n",
    "nums = [3,5,2,1,6,4]\n",
    "sorted(nums)\n",
    "print(nums)"
   ]
  },
  {
   "cell_type": "code",
   "execution_count": 7,
   "id": "c6418634-4db7-483f-a46f-e8c4ea959f19",
   "metadata": {},
   "outputs": [
    {
     "name": "stdout",
     "output_type": "stream",
     "text": [
      "15\n"
     ]
    }
   ],
   "source": [
    "#Problem 25: Given an array of integers, calculate the sum of all its elements.\n",
    "def sum_of_array(array):\n",
    "    total_sum = 0\n",
    "    for num in array:\n",
    "        total_sum += num\n",
    "    return total_sum\n",
    "array=[1,2,3,4,5]\n",
    "sum = sum_of_array(array)\n",
    "print(sum)"
   ]
  },
  {
   "cell_type": "code",
   "execution_count": 8,
   "id": "90a723ae-07d0-4e94-91bf-5cca7a857ab9",
   "metadata": {},
   "outputs": [
    {
     "name": "stdout",
     "output_type": "stream",
     "text": [
      " the maximum element in the array is: 9\n"
     ]
    }
   ],
   "source": [
    "#Problem 26: Find the maximum element in an array of integers.\n",
    "def max_number(array):\n",
    "    if not array:\n",
    "        return None\n",
    "    max_element=array[0]\n",
    "    for num in array[1:]:\n",
    "        if num > max_element:\n",
    "            max_element = num\n",
    "    return max_element\n",
    "array=[3,7,2,4,9,1]\n",
    "print(\" the maximum element in the array is:\",max_number(array))"
   ]
  },
  {
   "cell_type": "code",
   "execution_count": 9,
   "id": "cd795b9d-a0eb-4b4e-bcd3-f5add24237de",
   "metadata": {},
   "outputs": [
    {
     "name": "stdout",
     "output_type": "stream",
     "text": [
      "the target element is at index: 2\n"
     ]
    }
   ],
   "source": [
    "#Problem 27: Implement linear search to find the index of a target element in an array.\n",
    "def linear_search(array,target):\n",
    "    for index, element in enumerate(array):\n",
    "        if element == target:\n",
    "            return index\n",
    "    return -1\n",
    "array=[5,3,8,2,7,4]\n",
    "target = 8\n",
    "print(\"the target element is at index:\",linear_search(array,target))\n",
    "        "
   ]
  },
  {
   "cell_type": "code",
   "execution_count": 11,
   "id": "584b85ff-4b7e-44e8-add2-3040e6ff4252",
   "metadata": {},
   "outputs": [
    {
     "name": "stdout",
     "output_type": "stream",
     "text": [
      "factorial number of : {5} is: 120\n"
     ]
    }
   ],
   "source": [
    "#Problem 28 Calculate the factorial of a given number.\n",
    "def factorial_number(n):\n",
    "    if n < 0:\n",
    "        raise ValueError(\"factorial is not defined for negative numbers:\")\n",
    "    if n== 0:\n",
    "        return 1\n",
    "    else:\n",
    "        return n*factorial_number(n-1)\n",
    "number=5\n",
    "print(\"factorial number of :\", {number} ,\"is:\",factorial_number(number))"
   ]
  },
  {
   "cell_type": "code",
   "execution_count": 18,
   "id": "4a4f6040-49c6-4d7f-ab38-9ae7feef08de",
   "metadata": {},
   "outputs": [
    {
     "name": "stdout",
     "output_type": "stream",
     "text": [
      "the prime number is: True\n"
     ]
    }
   ],
   "source": [
    "#Problem 29: Check if a given number is a prime number.\n",
    "import math\n",
    "def check_prime_number(n):\n",
    "    if n < 2:\n",
    "        return False\n",
    "    if n == 2:\n",
    "        return True\n",
    "    if n % 2 == 0:\n",
    "        return False\n",
    "    for i in range(3,int(math.sqrt(n)) + 1,2):\n",
    "        if n % i == 0:\n",
    "            return False\n",
    "    return True\n",
    "number = 7\n",
    "print(\"the prime number is:\",check_prime_number(number))"
   ]
  },
  {
   "cell_type": "code",
   "execution_count": 19,
   "id": "a26bee0a-8621-4724-a1cc-678a0723bf2f",
   "metadata": {},
   "outputs": [
    {
     "name": "stdout",
     "output_type": "stream",
     "text": [
      "fibonacci series up to  8 is: [0, 1, 1, 2, 3, 5, 8]\n"
     ]
    }
   ],
   "source": [
    "#Problem 30: Generate the Fibonacci series up to a given number n.\n",
    "def generate_fibonacci(n):\n",
    "    if n < 0:\n",
    "        raise ValueError(\"input should be a non negative integer:\")\n",
    "    fib_series=[0,1]\n",
    "    while True:\n",
    "        next_fib=fib_series[-1] + fib_series[-2]\n",
    "        if next_fib > n:\n",
    "            break\n",
    "        fib_series.append(next_fib)\n",
    "    if n == 0:\n",
    "        return [0]\n",
    "    return fib_series\n",
    "n=8\n",
    "print(\"fibonacci series up to \",n, \"is:\",generate_fibonacci(n))"
   ]
  },
  {
   "cell_type": "code",
   "execution_count": 20,
   "id": "53fcd665-dee6-44bb-a70e-bf0721ec8073",
   "metadata": {},
   "outputs": [
    {
     "name": "stdout",
     "output_type": "stream",
     "text": [
      "3 to the power of 4 is: 81\n"
     ]
    }
   ],
   "source": [
    "#Problem 31: Calculate the power of a number using recursion.\n",
    "def power(x,n):\n",
    "    if n == 0:\n",
    "        return 1\n",
    "    if n > 0:\n",
    "        half_power = power(x,n // 2)\n",
    "        if n % 2 == 0:\n",
    "            return half_power * half_power\n",
    "        else:\n",
    "            return x * half_power * half_power\n",
    "    if n < 0:\n",
    "        return 1 / power(x, -n)\n",
    "base = 3\n",
    "exponent = 4\n",
    "print(f\"{base} to the power of {exponent} is:\", power(base,exponent))"
   ]
  },
  {
   "cell_type": "code",
   "execution_count": 23,
   "id": "a2c2a59c-f368-4f5e-a123-760acee635bb",
   "metadata": {},
   "outputs": [
    {
     "name": "stdin",
     "output_type": "stream",
     "text": [
      "enter the original string: Hello\n"
     ]
    },
    {
     "name": "stdout",
     "output_type": "stream",
     "text": [
      "the reverse string is : {'olleH'}\n"
     ]
    }
   ],
   "source": [
    "#Problem 32: Reverse a given string.\n",
    "input_string=input(\"enter the original string:\")\n",
    "reverse_string=input_string[::-1] \n",
    "print(\"the reverse string is :\",{reverse_string})\n",
    "    "
   ]
  }
 ],
 "metadata": {
  "kernelspec": {
   "display_name": "Python 3 (ipykernel)",
   "language": "python",
   "name": "python3"
  },
  "language_info": {
   "codemirror_mode": {
    "name": "ipython",
    "version": 3
   },
   "file_extension": ".py",
   "mimetype": "text/x-python",
   "name": "python",
   "nbconvert_exporter": "python",
   "pygments_lexer": "ipython3",
   "version": "3.10.8"
  }
 },
 "nbformat": 4,
 "nbformat_minor": 5
}
